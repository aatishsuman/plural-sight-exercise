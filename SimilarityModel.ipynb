{
 "cells": [
  {
   "cell_type": "code",
   "execution_count": 1,
   "metadata": {},
   "outputs": [],
   "source": [
    "from configparser import ConfigParser\n",
    "import sqlalchemy\n",
    "import pandas as pd\n",
    "import numpy as np\n",
    "import matplotlib.pyplot as plt\n",
    "from surprise import Dataset, Reader, SVD\n",
    "from surprise.accuracy import rmse\n",
    "from sklearn.metrics.pairwise import cosine_similarity\n",
    "from sklearn.feature_extraction.text import TfidfVectorizer\n",
    "from functools import reduce"
   ]
  },
  {
   "cell_type": "code",
   "execution_count": 2,
   "metadata": {},
   "outputs": [],
   "source": [
    "def get_config(filename, section='postgresql'):\n",
    "    parser = ConfigParser()\n",
    "    parser.read(filename)\n",
    "    db_params = {}\n",
    "    if parser.has_section(section):\n",
    "        params = parser.items(section)\n",
    "        for param in params:\n",
    "            db_params[param[0]] = param[1]\n",
    "    else:\n",
    "        raise Exception('Section {0} not found in the {1} file'.format(section, filename))\n",
    "    return db_params"
   ]
  },
  {
   "cell_type": "code",
   "execution_count": 3,
   "metadata": {},
   "outputs": [],
   "source": [
    "def get_query_results(queries):\n",
    "    engine = None\n",
    "    try:\n",
    "        params = get_config(DATABASE_CONFIG)\n",
    "        engine = sqlalchemy.create_engine('postgresql://' + params['user'] + ':' + params['password'] + '@' + params['host'] + ':' + params['port'] + '/' + params['database'])\n",
    "        return tuple([pd.read_sql(query, con=engine) for query in queries])\n",
    "    except (Exception) as error:\n",
    "        print(error)\n",
    "    finally:\n",
    "        if engine is not None:\n",
    "            engine.dispose()"
   ]
  },
  {
   "cell_type": "code",
   "execution_count": 4,
   "metadata": {},
   "outputs": [
    {
     "name": "stdout",
     "output_type": "stream",
     "text": [
      "(6571, 3) (105353, 3) (10000, 2)\n"
     ]
    }
   ],
   "source": [
    "DATABASE_CONFIG = 'database.ini'\n",
    "USER_ASSESSMENT_QUERY = 'with norm as (select assessment_tag, avg(user_assessment_score) score_avg, stddev(user_assessment_score) score_stddev from user_assessment_scores group by assessment_tag) select user_handle, user_assessment_scores.assessment_tag, coalesce((user_assessment_score - norm.score_avg) / (norm.score_stddev + 1), 0) score_scaled from user_assessment_scores left join norm on user_assessment_scores.assessment_tag = norm.assessment_tag'\n",
    "USER_COURSE_QUERY = 'with norm as (select course_id, avg(view_time_seconds) view_time_avg, stddev(view_time_seconds) view_time_stddev from user_course_views group by course_id), data as (select user_handle, course_id, sum(view_time_seconds) view_time from user_course_views group by user_handle, course_id) select data.user_handle, data.course_id, coalesce((data.view_time - norm.view_time_avg) / (norm.view_time_stddev + 1), 0) view_time_scaled from data left join norm on data.course_id = norm.course_id'\n",
    "USER_INTEREST_QUERY = \"select user_handle, string_agg(interest_tag, ', ') interest_tags from user_interests group by user_handle\"\n",
    "user_assessment_scores_df, user_course_views_df, user_interests_df = get_query_results([USER_ASSESSMENT_QUERY, USER_COURSE_QUERY, USER_INTEREST_QUERY])\n",
    "print(user_assessment_scores_df.shape, user_course_views_df.shape, user_interests_df.shape)"
   ]
  },
  {
   "cell_type": "code",
   "execution_count": 5,
   "metadata": {},
   "outputs": [],
   "source": [
    "def build_assessment_similarity_matrix():\n",
    "    user_assessment_score_vectors = pd.pivot(user_assessment_scores_df, index='user_handle', columns='assessment_tag', values='score_scaled').fillna(0)\n",
    "    print('User-assessment score matrix shape -', user_assessment_score_vectors.shape)\n",
    "    return pd.DataFrame(cosine_similarity(user_assessment_score_vectors), columns=user_assessment_score_vectors.index, index=user_assessment_score_vectors.index)"
   ]
  },
  {
   "cell_type": "code",
   "execution_count": 6,
   "metadata": {},
   "outputs": [],
   "source": [
    "def build_model(n_factors=100, n_epochs=20, lr_all=0.005, reg_all=0.02, random_state=42):\n",
    "    reader = Reader(rating_scale=(min(user_course_views_df['view_time_scaled']), max(user_course_views_df['view_time_scaled'])))\n",
    "    data = Dataset.load_from_df(user_course_views_df, reader)\n",
    "    trainset = data.build_full_trainset()\n",
    "    model = SVD(n_factors=n_factors, n_epochs=n_epochs, lr_all=lr_all, reg_all=reg_all, random_state=random_state)\n",
    "    model.fit(trainset)\n",
    "    return model, rmse(model.test(trainset.build_testset())), trainset"
   ]
  },
  {
   "cell_type": "code",
   "execution_count": 7,
   "metadata": {},
   "outputs": [],
   "source": [
    "def generate_elbow_plot(n_factors_range, random_state=42):\n",
    "    results = {n_factors: build_model(n_factors=n_factors, n_epochs=N_EPOCHS, random_state=random_state)[1] for n_factors in n_factors_range}\n",
    "    plt.figure()\n",
    "    plt.plot(list(results.keys()), list(results.values()))\n",
    "    plt.title('RMSE vs number of factors')\n",
    "    plt.xlabel('Number of factors')\n",
    "    plt.ylabel('RMSE')"
   ]
  },
  {
   "cell_type": "code",
   "execution_count": 8,
   "metadata": {},
   "outputs": [],
   "source": [
    "def perform_grid_search(param_grid):\n",
    "    results = {}\n",
    "    for lr_all in param_grid['lr_all']:\n",
    "        for reg_all in param_grid['reg_all']:\n",
    "            results[(lr_all, reg_all)] = build_model(n_factors=N_FACTORS, n_epochs=N_EPOCHS, lr_all=lr_all, reg_all=reg_all)[1]\n",
    "    best_params = min(results, key=results.get)\n",
    "    print(best_params, results[best_params])"
   ]
  },
  {
   "cell_type": "code",
   "execution_count": 9,
   "metadata": {},
   "outputs": [
    {
     "name": "stdout",
     "output_type": "stream",
     "text": [
      "RMSE: 0.9105\n"
     ]
    }
   ],
   "source": [
    "# baseline model\n",
    "model, rmse_value, trainset = build_model()"
   ]
  },
  {
   "cell_type": "code",
   "execution_count": 10,
   "metadata": {},
   "outputs": [],
   "source": [
    "N_EPOCHS = 40"
   ]
  },
  {
   "cell_type": "markdown",
   "metadata": {},
   "source": [
    "## Finding number of factors"
   ]
  },
  {
   "cell_type": "code",
   "execution_count": 150,
   "metadata": {},
   "outputs": [
    {
     "name": "stdout",
     "output_type": "stream",
     "text": [
      "RMSE: 0.8958\n",
      "RMSE: 0.5461\n",
      "RMSE: 0.3971\n",
      "RMSE: 0.3417\n",
      "RMSE: 0.2100\n",
      "RMSE: 0.1594\n",
      "RMSE: 0.1331\n",
      "RMSE: 0.1185\n"
     ]
    },
    {
     "data": {
      "image/png": "[encoded data removed]",
      "text/plain": [
       "<Figure size 432x288 with 1 Axes>"
      ]
     },
     "metadata": {
      "needs_background": "light"
     },
     "output_type": "display_data"
    }
   ],
   "source": [
    "generate_elbow_plot([20, 50, 100, 150, 200, 300, 400, 500])"
   ]
  },
  {
   "cell_type": "code",
   "execution_count": 151,
   "metadata": {},
   "outputs": [
    {
     "name": "stdout",
     "output_type": "stream",
     "text": [
      "RMSE: 0.5461\n",
      "RMSE: 0.4506\n",
      "RMSE: 0.3662\n",
      "RMSE: 0.3417\n",
      "RMSE: 0.2292\n",
      "RMSE: 0.2100\n",
      "RMSE: 0.1934\n",
      "RMSE: 0.1802\n"
     ]
    },
    {
     "data": {
      "image/png": "[encoded data removed]",
      "text/plain": [
       "<Figure size 432x288 with 1 Axes>"
      ]
     },
     "metadata": {
      "needs_background": "light"
     },
     "output_type": "display_data"
    }
   ],
   "source": [
    "generate_elbow_plot([50, 75, 125, 150, 175, 200, 225, 250])"
   ]
  },
  {
   "cell_type": "code",
   "execution_count": 11,
   "metadata": {},
   "outputs": [],
   "source": [
    "N_FACTORS = 175"
   ]
  },
  {
   "cell_type": "markdown",
   "metadata": {},
   "source": [
    "## Finding learning rate"
   ]
  },
  {
   "cell_type": "code",
   "execution_count": 174,
   "metadata": {},
   "outputs": [
    {
     "name": "stdout",
     "output_type": "stream",
     "text": [
      "RMSE: 0.9029\n",
      "RMSE: 1.5242\n",
      "RMSE: 229.2016\n",
      "RMSE: 229.2016\n",
      "(0.002, 0.02) 0.9028776549781232\n",
      "Wall time: 1min 4s\n"
     ]
    }
   ],
   "source": [
    "%%time\n",
    "param_grid = {\n",
    "    'lr_all': [0.002, 0.02],\n",
    "    'reg_all': [0.02, 0.2]\n",
    "}\n",
    "perform_grid_search(param_grid)"
   ]
  },
  {
   "cell_type": "code",
   "execution_count": 175,
   "metadata": {},
   "outputs": [
    {
     "name": "stdout",
     "output_type": "stream",
     "text": [
      "RMSE: 1.7177\n",
      "RMSE: 2.1558\n",
      "RMSE: 0.9029\n",
      "RMSE: 1.5242\n",
      "RMSE: 0.2292\n",
      "RMSE: 0.9648\n",
      "(0.005, 0.02) 0.2291596113899946\n",
      "Wall time: 1min 49s\n"
     ]
    }
   ],
   "source": [
    "%%time\n",
    "param_grid = {\n",
    "    'lr_all': [0.001, 0.002, 0.005],\n",
    "    'reg_all': [0.02, 0.2]\n",
    "}\n",
    "perform_grid_search(param_grid)"
   ]
  },
  {
   "cell_type": "code",
   "execution_count": 176,
   "metadata": {},
   "outputs": [
    {
     "name": "stdout",
     "output_type": "stream",
     "text": [
      "RMSE: 0.9029\n",
      "RMSE: 1.5242\n",
      "RMSE: 0.2292\n",
      "RMSE: 0.9648\n",
      "RMSE: 0.2254\n",
      "RMSE: 1.0997\n",
      "RMSE: 229.2016\n",
      "RMSE: 229.2016\n",
      "(0.007, 0.02) 0.22536162564784257\n",
      "Wall time: 2min 42s\n"
     ]
    }
   ],
   "source": [
    "%%time\n",
    "param_grid = {\n",
    "    'lr_all': [0.002, 0.005, 0.007, 0.01],\n",
    "    'reg_all': [0.02, 0.2]\n",
    "}\n",
    "perform_grid_search(param_grid)"
   ]
  },
  {
   "cell_type": "code",
   "execution_count": 12,
   "metadata": {},
   "outputs": [],
   "source": [
    "LR_ALL = 0.007"
   ]
  },
  {
   "cell_type": "markdown",
   "metadata": {},
   "source": [
    "## Finding regularization parameter"
   ]
  },
  {
   "cell_type": "code",
   "execution_count": 179,
   "metadata": {},
   "outputs": [
    {
     "name": "stdout",
     "output_type": "stream",
     "text": [
      "RMSE: 0.4746\n",
      "RMSE: 0.2254\n",
      "RMSE: 0.1835\n",
      "RMSE: 0.3946\n",
      "RMSE: 0.2701\n",
      "(0.007, 0.03) 0.1834922297059677\n",
      "Wall time: 1min 24s\n"
     ]
    }
   ],
   "source": [
    "%%time\n",
    "param_grid = {\n",
    "    'lr_all': [LR_ALL],\n",
    "    'reg_all': [0.01, 0.02, 0.03, 0.04, 0.05]\n",
    "}\n",
    "perform_grid_search(param_grid)"
   ]
  },
  {
   "cell_type": "code",
   "execution_count": 13,
   "metadata": {},
   "outputs": [],
   "source": [
    "REG_ALL = 0.03"
   ]
  },
  {
   "cell_type": "code",
   "execution_count": 14,
   "metadata": {},
   "outputs": [],
   "source": [
    "def save_factors(user_factors, course_factors):\n",
    "    engine = None\n",
    "    try:\n",
    "        params = get_config(DATABASE_CONFIG)\n",
    "        engine = sqlalchemy.create_engine('postgresql://' + params['user'] + ':' + params['password'] + '@' + params['host'] + ':' + params['port'] + '/' + params['database'])\n",
    "        \n",
    "        user_factors.to_sql('user_factors', engine, if_exists='replace')\n",
    "        print('Table user_factors successfully created.')\n",
    "        \n",
    "        course_factors.to_sql('course_factors', engine, if_exists='replace')\n",
    "        print('Table course_factors successfully created.')\n",
    "    except (Exception) as error:\n",
    "        print(error)\n",
    "    finally:\n",
    "        if engine is not None:\n",
    "            engine.dispose()\n",
    "            print('Database connection closed.')"
   ]
  },
  {
   "cell_type": "code",
   "execution_count": 15,
   "metadata": {},
   "outputs": [],
   "source": [
    "def get_factors(model, trainset):\n",
    "    user_factors = model.pu\n",
    "    user_factors = np.hstack((user_factors, model.bu[..., None]))\n",
    "    user_factors = pd.DataFrame.from_dict(dict(zip([trainset.to_raw_uid(user_id) for user_id in trainset.all_users()], user_factors)), orient='index')\n",
    "    \n",
    "    course_factors = model.qi\n",
    "    course_factors = np.hstack((course_factors, model.bi[..., None]))\n",
    "    course_factors = pd.DataFrame.from_dict(dict(zip([trainset.to_raw_iid(course_id) for course_id in trainset.all_items()], course_factors)), orient='index')\n",
    "    save_factors(user_factors, course_factors)\n",
    "    return user_factors, course_factors"
   ]
  },
  {
   "cell_type": "code",
   "execution_count": 106,
   "metadata": {},
   "outputs": [],
   "source": [
    "USER_FACTORS_QUERY = 'select * from user_factors'\n",
    "def build_course_similarity_matrix_from_model():\n",
    "    '''Builds the course similarity matrix using normalized view times from trained model'''\n",
    "\n",
    "    user_factors = get_query_results([USER_FACTORS_QUERY])[0]\n",
    "    user_handles = user_factors[user_factors.columns[0]]\n",
    "    user_factors.drop(user_factors.columns[0], axis=1, inplace=True)\n",
    "    print('User-factors matrix shape -', user_factors.shape)\n",
    "    return pd.DataFrame(cosine_similarity(user_factors), columns=user_handles, index=user_handles)"
   ]
  },
  {
   "cell_type": "code",
   "execution_count": 107,
   "metadata": {},
   "outputs": [
    {
     "name": "stdout",
     "output_type": "stream",
     "text": [
      "User-factors matrix shape - (8760, 176)\n"
     ]
    },
    {
     "data": {
      "text/html": [
       "<div>\n",
       "<style scoped>\n",
       "    .dataframe tbody tr th:only-of-type {\n",
       "        vertical-align: middle;\n",
       "    }\n",
       "\n",
       "    .dataframe tbody tr th {\n",
       "        vertical-align: top;\n",
       "    }\n",
       "\n",
       "    .dataframe thead th {\n",
       "        text-align: right;\n",
       "    }\n",
       "</style>\n",
       "<table border=\"1\" class=\"dataframe\">\n",
       "  <thead>\n",
       "    <tr style=\"text-align: right;\">\n",
       "      <th>index</th>\n",
       "      <th>1</th>\n",
       "      <th>2</th>\n",
       "      <th>3</th>\n",
       "      <th>4</th>\n",
       "      <th>5</th>\n",
       "      <th>6</th>\n",
       "      <th>8</th>\n",
       "      <th>9</th>\n",
       "      <th>10</th>\n",
       "      <th>12</th>\n",
       "      <th>...</th>\n",
       "      <th>9991</th>\n",
       "      <th>9992</th>\n",
       "      <th>9993</th>\n",
       "      <th>9994</th>\n",
       "      <th>9995</th>\n",
       "      <th>9996</th>\n",
       "      <th>9997</th>\n",
       "      <th>9998</th>\n",
       "      <th>9999</th>\n",
       "      <th>10000</th>\n",
       "    </tr>\n",
       "    <tr>\n",
       "      <th>index</th>\n",
       "      <th></th>\n",
       "      <th></th>\n",
       "      <th></th>\n",
       "      <th></th>\n",
       "      <th></th>\n",
       "      <th></th>\n",
       "      <th></th>\n",
       "      <th></th>\n",
       "      <th></th>\n",
       "      <th></th>\n",
       "      <th></th>\n",
       "      <th></th>\n",
       "      <th></th>\n",
       "      <th></th>\n",
       "      <th></th>\n",
       "      <th></th>\n",
       "      <th></th>\n",
       "      <th></th>\n",
       "      <th></th>\n",
       "      <th></th>\n",
       "      <th></th>\n",
       "    </tr>\n",
       "  </thead>\n",
       "  <tbody>\n",
       "    <tr>\n",
       "      <th>1</th>\n",
       "      <td>1.000000</td>\n",
       "      <td>0.096273</td>\n",
       "      <td>-0.060019</td>\n",
       "      <td>0.021005</td>\n",
       "      <td>-0.053494</td>\n",
       "      <td>-0.165785</td>\n",
       "      <td>0.069499</td>\n",
       "      <td>0.021563</td>\n",
       "      <td>0.064851</td>\n",
       "      <td>-0.022480</td>\n",
       "      <td>...</td>\n",
       "      <td>0.065491</td>\n",
       "      <td>-0.025394</td>\n",
       "      <td>-0.038721</td>\n",
       "      <td>3.918923e-02</td>\n",
       "      <td>0.104345</td>\n",
       "      <td>0.005522</td>\n",
       "      <td>-0.087308</td>\n",
       "      <td>-0.076166</td>\n",
       "      <td>0.094094</td>\n",
       "      <td>-0.004989</td>\n",
       "    </tr>\n",
       "    <tr>\n",
       "      <th>2</th>\n",
       "      <td>0.096273</td>\n",
       "      <td>1.000000</td>\n",
       "      <td>-0.073179</td>\n",
       "      <td>-0.074273</td>\n",
       "      <td>-0.089949</td>\n",
       "      <td>-0.030801</td>\n",
       "      <td>0.073094</td>\n",
       "      <td>0.050279</td>\n",
       "      <td>-0.029789</td>\n",
       "      <td>0.112278</td>\n",
       "      <td>...</td>\n",
       "      <td>0.146009</td>\n",
       "      <td>0.010252</td>\n",
       "      <td>-0.015884</td>\n",
       "      <td>-3.380413e-02</td>\n",
       "      <td>-0.069590</td>\n",
       "      <td>-0.014876</td>\n",
       "      <td>0.010667</td>\n",
       "      <td>-0.033116</td>\n",
       "      <td>0.087446</td>\n",
       "      <td>-0.032383</td>\n",
       "    </tr>\n",
       "    <tr>\n",
       "      <th>3</th>\n",
       "      <td>-0.060019</td>\n",
       "      <td>-0.073179</td>\n",
       "      <td>1.000000</td>\n",
       "      <td>0.172700</td>\n",
       "      <td>-0.069501</td>\n",
       "      <td>-0.005398</td>\n",
       "      <td>-0.125039</td>\n",
       "      <td>0.014452</td>\n",
       "      <td>0.045722</td>\n",
       "      <td>0.145044</td>\n",
       "      <td>...</td>\n",
       "      <td>0.093070</td>\n",
       "      <td>0.007953</td>\n",
       "      <td>0.013739</td>\n",
       "      <td>-1.223774e-02</td>\n",
       "      <td>-0.151806</td>\n",
       "      <td>0.083285</td>\n",
       "      <td>0.169693</td>\n",
       "      <td>-0.015987</td>\n",
       "      <td>-0.023568</td>\n",
       "      <td>-0.077935</td>\n",
       "    </tr>\n",
       "    <tr>\n",
       "      <th>4</th>\n",
       "      <td>0.021005</td>\n",
       "      <td>-0.074273</td>\n",
       "      <td>0.172700</td>\n",
       "      <td>1.000000</td>\n",
       "      <td>-0.147186</td>\n",
       "      <td>0.062481</td>\n",
       "      <td>-0.046176</td>\n",
       "      <td>0.097253</td>\n",
       "      <td>0.094616</td>\n",
       "      <td>0.164043</td>\n",
       "      <td>...</td>\n",
       "      <td>-0.041616</td>\n",
       "      <td>0.006432</td>\n",
       "      <td>0.106659</td>\n",
       "      <td>-2.159168e-02</td>\n",
       "      <td>-0.235297</td>\n",
       "      <td>-0.011433</td>\n",
       "      <td>-0.084908</td>\n",
       "      <td>0.062964</td>\n",
       "      <td>0.021985</td>\n",
       "      <td>0.037626</td>\n",
       "    </tr>\n",
       "    <tr>\n",
       "      <th>5</th>\n",
       "      <td>-0.053494</td>\n",
       "      <td>-0.089949</td>\n",
       "      <td>-0.069501</td>\n",
       "      <td>-0.147186</td>\n",
       "      <td>1.000000</td>\n",
       "      <td>0.137323</td>\n",
       "      <td>0.054630</td>\n",
       "      <td>-0.121058</td>\n",
       "      <td>-0.012709</td>\n",
       "      <td>-0.144953</td>\n",
       "      <td>...</td>\n",
       "      <td>-0.124638</td>\n",
       "      <td>0.060810</td>\n",
       "      <td>-0.013511</td>\n",
       "      <td>-4.842261e-02</td>\n",
       "      <td>0.056483</td>\n",
       "      <td>0.004312</td>\n",
       "      <td>-0.055667</td>\n",
       "      <td>-0.081322</td>\n",
       "      <td>-0.077289</td>\n",
       "      <td>0.007743</td>\n",
       "    </tr>\n",
       "    <tr>\n",
       "      <th>...</th>\n",
       "      <td>...</td>\n",
       "      <td>...</td>\n",
       "      <td>...</td>\n",
       "      <td>...</td>\n",
       "      <td>...</td>\n",
       "      <td>...</td>\n",
       "      <td>...</td>\n",
       "      <td>...</td>\n",
       "      <td>...</td>\n",
       "      <td>...</td>\n",
       "      <td>...</td>\n",
       "      <td>...</td>\n",
       "      <td>...</td>\n",
       "      <td>...</td>\n",
       "      <td>...</td>\n",
       "      <td>...</td>\n",
       "      <td>...</td>\n",
       "      <td>...</td>\n",
       "      <td>...</td>\n",
       "      <td>...</td>\n",
       "      <td>...</td>\n",
       "    </tr>\n",
       "    <tr>\n",
       "      <th>9996</th>\n",
       "      <td>0.005522</td>\n",
       "      <td>-0.014876</td>\n",
       "      <td>0.083285</td>\n",
       "      <td>-0.011433</td>\n",
       "      <td>0.004312</td>\n",
       "      <td>0.007139</td>\n",
       "      <td>-0.037838</td>\n",
       "      <td>0.051450</td>\n",
       "      <td>0.112319</td>\n",
       "      <td>0.049063</td>\n",
       "      <td>...</td>\n",
       "      <td>0.116715</td>\n",
       "      <td>0.131076</td>\n",
       "      <td>-0.019652</td>\n",
       "      <td>1.464124e-01</td>\n",
       "      <td>-0.046090</td>\n",
       "      <td>1.000000</td>\n",
       "      <td>-0.043967</td>\n",
       "      <td>-0.067969</td>\n",
       "      <td>-0.032677</td>\n",
       "      <td>0.006362</td>\n",
       "    </tr>\n",
       "    <tr>\n",
       "      <th>9997</th>\n",
       "      <td>-0.087308</td>\n",
       "      <td>0.010667</td>\n",
       "      <td>0.169693</td>\n",
       "      <td>-0.084908</td>\n",
       "      <td>-0.055667</td>\n",
       "      <td>-0.034771</td>\n",
       "      <td>0.144678</td>\n",
       "      <td>0.073529</td>\n",
       "      <td>0.028042</td>\n",
       "      <td>-0.021190</td>\n",
       "      <td>...</td>\n",
       "      <td>-0.011338</td>\n",
       "      <td>0.045543</td>\n",
       "      <td>-0.154264</td>\n",
       "      <td>-1.439769e-07</td>\n",
       "      <td>0.064819</td>\n",
       "      <td>-0.043967</td>\n",
       "      <td>1.000000</td>\n",
       "      <td>0.014534</td>\n",
       "      <td>-0.021863</td>\n",
       "      <td>0.036059</td>\n",
       "    </tr>\n",
       "    <tr>\n",
       "      <th>9998</th>\n",
       "      <td>-0.076166</td>\n",
       "      <td>-0.033116</td>\n",
       "      <td>-0.015987</td>\n",
       "      <td>0.062964</td>\n",
       "      <td>-0.081322</td>\n",
       "      <td>0.015382</td>\n",
       "      <td>0.022708</td>\n",
       "      <td>0.084222</td>\n",
       "      <td>0.122779</td>\n",
       "      <td>0.145560</td>\n",
       "      <td>...</td>\n",
       "      <td>-0.009115</td>\n",
       "      <td>0.101660</td>\n",
       "      <td>0.080806</td>\n",
       "      <td>-3.986597e-02</td>\n",
       "      <td>-0.022095</td>\n",
       "      <td>-0.067969</td>\n",
       "      <td>0.014534</td>\n",
       "      <td>1.000000</td>\n",
       "      <td>-0.002259</td>\n",
       "      <td>-0.035888</td>\n",
       "    </tr>\n",
       "    <tr>\n",
       "      <th>9999</th>\n",
       "      <td>0.094094</td>\n",
       "      <td>0.087446</td>\n",
       "      <td>-0.023568</td>\n",
       "      <td>0.021985</td>\n",
       "      <td>-0.077289</td>\n",
       "      <td>0.020017</td>\n",
       "      <td>0.128468</td>\n",
       "      <td>0.087636</td>\n",
       "      <td>-0.092544</td>\n",
       "      <td>0.013820</td>\n",
       "      <td>...</td>\n",
       "      <td>-0.054986</td>\n",
       "      <td>0.009973</td>\n",
       "      <td>-0.095720</td>\n",
       "      <td>-1.200346e-02</td>\n",
       "      <td>-0.101889</td>\n",
       "      <td>-0.032677</td>\n",
       "      <td>-0.021863</td>\n",
       "      <td>-0.002259</td>\n",
       "      <td>1.000000</td>\n",
       "      <td>-0.093181</td>\n",
       "    </tr>\n",
       "    <tr>\n",
       "      <th>10000</th>\n",
       "      <td>-0.004989</td>\n",
       "      <td>-0.032383</td>\n",
       "      <td>-0.077935</td>\n",
       "      <td>0.037626</td>\n",
       "      <td>0.007743</td>\n",
       "      <td>-0.141045</td>\n",
       "      <td>0.068882</td>\n",
       "      <td>-0.077474</td>\n",
       "      <td>0.033535</td>\n",
       "      <td>0.010703</td>\n",
       "      <td>...</td>\n",
       "      <td>-0.036142</td>\n",
       "      <td>-0.001546</td>\n",
       "      <td>0.020067</td>\n",
       "      <td>-2.470260e-02</td>\n",
       "      <td>-0.046871</td>\n",
       "      <td>0.006362</td>\n",
       "      <td>0.036059</td>\n",
       "      <td>-0.035888</td>\n",
       "      <td>-0.093181</td>\n",
       "      <td>1.000000</td>\n",
       "    </tr>\n",
       "  </tbody>\n",
       "</table>\n",
       "<p>8760 rows × 8760 columns</p>\n",
       "</div>"
      ],
      "text/plain": [
       "index     1         2         3         4         5         6         8      \\\n",
       "index                                                                         \n",
       "1      1.000000  0.096273 -0.060019  0.021005 -0.053494 -0.165785  0.069499   \n",
       "2      0.096273  1.000000 -0.073179 -0.074273 -0.089949 -0.030801  0.073094   \n",
       "3     -0.060019 -0.073179  1.000000  0.172700 -0.069501 -0.005398 -0.125039   \n",
       "4      0.021005 -0.074273  0.172700  1.000000 -0.147186  0.062481 -0.046176   \n",
       "5     -0.053494 -0.089949 -0.069501 -0.147186  1.000000  0.137323  0.054630   \n",
       "...         ...       ...       ...       ...       ...       ...       ...   \n",
       "9996   0.005522 -0.014876  0.083285 -0.011433  0.004312  0.007139 -0.037838   \n",
       "9997  -0.087308  0.010667  0.169693 -0.084908 -0.055667 -0.034771  0.144678   \n",
       "9998  -0.076166 -0.033116 -0.015987  0.062964 -0.081322  0.015382  0.022708   \n",
       "9999   0.094094  0.087446 -0.023568  0.021985 -0.077289  0.020017  0.128468   \n",
       "10000 -0.004989 -0.032383 -0.077935  0.037626  0.007743 -0.141045  0.068882   \n",
       "\n",
       "index     9         10        12     ...     9991      9992      9993   \\\n",
       "index                                ...                                 \n",
       "1      0.021563  0.064851 -0.022480  ...  0.065491 -0.025394 -0.038721   \n",
       "2      0.050279 -0.029789  0.112278  ...  0.146009  0.010252 -0.015884   \n",
       "3      0.014452  0.045722  0.145044  ...  0.093070  0.007953  0.013739   \n",
       "4      0.097253  0.094616  0.164043  ... -0.041616  0.006432  0.106659   \n",
       "5     -0.121058 -0.012709 -0.144953  ... -0.124638  0.060810 -0.013511   \n",
       "...         ...       ...       ...  ...       ...       ...       ...   \n",
       "9996   0.051450  0.112319  0.049063  ...  0.116715  0.131076 -0.019652   \n",
       "9997   0.073529  0.028042 -0.021190  ... -0.011338  0.045543 -0.154264   \n",
       "9998   0.084222  0.122779  0.145560  ... -0.009115  0.101660  0.080806   \n",
       "9999   0.087636 -0.092544  0.013820  ... -0.054986  0.009973 -0.095720   \n",
       "10000 -0.077474  0.033535  0.010703  ... -0.036142 -0.001546  0.020067   \n",
       "\n",
       "index         9994      9995      9996      9997      9998      9999   \\\n",
       "index                                                                   \n",
       "1      3.918923e-02  0.104345  0.005522 -0.087308 -0.076166  0.094094   \n",
       "2     -3.380413e-02 -0.069590 -0.014876  0.010667 -0.033116  0.087446   \n",
       "3     -1.223774e-02 -0.151806  0.083285  0.169693 -0.015987 -0.023568   \n",
       "4     -2.159168e-02 -0.235297 -0.011433 -0.084908  0.062964  0.021985   \n",
       "5     -4.842261e-02  0.056483  0.004312 -0.055667 -0.081322 -0.077289   \n",
       "...             ...       ...       ...       ...       ...       ...   \n",
       "9996   1.464124e-01 -0.046090  1.000000 -0.043967 -0.067969 -0.032677   \n",
       "9997  -1.439769e-07  0.064819 -0.043967  1.000000  0.014534 -0.021863   \n",
       "9998  -3.986597e-02 -0.022095 -0.067969  0.014534  1.000000 -0.002259   \n",
       "9999  -1.200346e-02 -0.101889 -0.032677 -0.021863 -0.002259  1.000000   \n",
       "10000 -2.470260e-02 -0.046871  0.006362  0.036059 -0.035888 -0.093181   \n",
       "\n",
       "index     10000  \n",
       "index            \n",
       "1     -0.004989  \n",
       "2     -0.032383  \n",
       "3     -0.077935  \n",
       "4      0.037626  \n",
       "5      0.007743  \n",
       "...         ...  \n",
       "9996   0.006362  \n",
       "9997   0.036059  \n",
       "9998  -0.035888  \n",
       "9999  -0.093181  \n",
       "10000  1.000000  \n",
       "\n",
       "[8760 rows x 8760 columns]"
      ]
     },
     "execution_count": 107,
     "metadata": {},
     "output_type": "execute_result"
    }
   ],
   "source": [
    "build_course_similarity_matrix_from_model()"
   ]
  },
  {
   "cell_type": "code",
   "execution_count": 16,
   "metadata": {},
   "outputs": [],
   "source": [
    "def build_course_similarity_matrix():\n",
    "    model, rmse_value, trainset = build_model(n_factors=N_FACTORS, n_epochs=N_EPOCHS, lr_all=LR_ALL, reg_all=REG_ALL)\n",
    "    user_factors, course_factors = get_factors(model, trainset)\n",
    "    print('User and course factors matrix shape -', user_factors.shape, course_factors.shape)\n",
    "    return pd.DataFrame(cosine_similarity(user_factors), columns=user_factors.index, index=user_factors.index)"
   ]
  },
  {
   "cell_type": "code",
   "execution_count": 21,
   "metadata": {},
   "outputs": [],
   "source": [
    "def build_interest_similarity_matrix():\n",
    "    vectorizer = TfidfVectorizer(tokenizer=lambda text: text.split(', '))\n",
    "    vectors = vectorizer.fit_transform(user_interests_df['interest_tags'])\n",
    "    print('User-interest matrix shape -', vectors.shape)\n",
    "    return pd.DataFrame(cosine_similarity(vectors), columns=user_interests_df['user_handle'], index=user_interests_df['user_handle'])"
   ]
  },
  {
   "cell_type": "code",
   "execution_count": 18,
   "metadata": {},
   "outputs": [],
   "source": [
    "ASSESSMENT_WEIGHT, COURSE_WEIGHT, INTEREST_WEIGHT = 0.5, 0.2, 0.3"
   ]
  },
  {
   "cell_type": "code",
   "execution_count": 24,
   "metadata": {},
   "outputs": [],
   "source": [
    "def build_similarity_matrix():\n",
    "    assessment_similarity_df = build_assessment_similarity_matrix()\n",
    "    course_similarity_df = build_course_similarity_matrix()\n",
    "    interest_similarity_df = build_interest_similarity_matrix()\n",
    "    return assessment_similarity_df, course_similarity_df, interest_similarity_df, reduce(lambda a, b: a.add(b, fill_value=0), [assessment_similarity_df * ASSESSMENT_WEIGHT, course_similarity_df * COURSE_WEIGHT, interest_similarity_df * INTEREST_WEIGHT])"
   ]
  },
  {
   "cell_type": "code",
   "execution_count": 25,
   "metadata": {},
   "outputs": [
    {
     "name": "stdout",
     "output_type": "stream",
     "text": [
      "User-assessment score matrix shape - (3114, 54)\n",
      "RMSE: 0.1835\n",
      "Table user_factors successfully created.\n",
      "Table course_factors successfully created.\n",
      "Database connection closed.\n",
      "User and course factors matrix shape - (8760, 176) (5942, 176)\n",
      "User-interest matrix shape - (10000, 748)\n"
     ]
    }
   ],
   "source": [
    "assessment_similarity_df, course_similarity_df, interest_similarity_df, similarity_df = build_similarity_matrix()"
   ]
  },
  {
   "cell_type": "code",
   "execution_count": 95,
   "metadata": {},
   "outputs": [],
   "source": [
    "def get_similar_users(user_handle):\n",
    "    if user_handle not in similarity_df:\n",
    "        raise Exception('User does not exist')\n",
    "    \n",
    "    user_top_assessment_tags = list(user_assessment_scores_df[user_assessment_scores_df['user_handle'] == user_handle].sort_values(by='score_scaled', ascending=False)['assessment_tag'])\n",
    "    user_top_assessment_tags = user_top_assessment_tags if len(user_top_assessment_tags) < 3 else user_top_assessment_tags[:3]\n",
    "    \n",
    "    user_highest_course_views = list(user_course_views_df[user_course_views_df['user_handle'] == user_handle].sort_values(by='view_time_scaled', ascending=False)['course_id'])\n",
    "    user_highest_course_views = user_highest_course_views if len(user_highest_course_views) < 3 else user_highest_course_views[:3]\n",
    "    \n",
    "    user_interest_tags = list(user_interests_df[user_interests_df['user_handle'] == user_handle]['interest_tags'])\n",
    "    \n",
    "    similar_users = assessment_similarity_df[user_handle].drop(labels=user_handle).sort_values(ascending=False)[:10] if user_handle in assessment_similarity_df else []\n",
    "    similar_score_users = {'users': list(similar_users.index), 'similarities': list(similar_users.values)} if len(similar_users) > 0 else {}\n",
    "    similar_users = course_similarity_df[user_handle].drop(labels=user_handle).sort_values(ascending=False)[:10] if user_handle in course_similarity_df else []\n",
    "    similar_course_views_users = {'users': list(similar_users.index), 'similarities': list(similar_users.values)} if len(similar_users) > 0 else {}\n",
    "    similar_users = interest_similarity_df[user_handle].drop(labels=user_handle).sort_values(ascending=False)[:10] if user_handle in interest_similarity_df else []\n",
    "    similar_interest_users = {'users': list(similar_users.index), 'similarities': list(similar_users.values)} if len(similar_users) > 0 else {}\n",
    "    similar_users = similarity_df[user_handle].drop(labels=user_handle).sort_values(ascending=False)[:10]\n",
    "    similar_overall_users = {'users': list(similar_users.index), 'similarities': list(similar_users.values)}\n",
    "    \n",
    "    return {'user_top_assessment_tags': user_top_assessment_tags, \n",
    "            'user_highest_course_views': user_highest_course_views, \n",
    "            'user_interest_tags': user_interest_tags,\n",
    "           'similar_score_users': similar_score_users,\n",
    "           'similar_course_views_users': similar_course_views_users,\n",
    "           'similar_interest_users': similar_interest_users,\n",
    "           'similar_overall_users': similar_overall_users}"
   ]
  },
  {
   "cell_type": "code",
   "execution_count": 96,
   "metadata": {},
   "outputs": [
    {
     "data": {
      "text/plain": [
       "{'user_top_assessment_tags': ['photoshop'],\n",
       " 'user_highest_course_views': ['intro-zbrush-4r7-2090',\n",
       "  'high-resolution-game-char-creation-pipeline-zbrush-maya-1361',\n",
       "  'game-prop-modeling-fundamentals'],\n",
       " 'user_interest_tags': ['zbrush, maya, 3ds-max, adobe'],\n",
       " 'similar_score_users': {'users': [3851,\n",
       "   4005,\n",
       "   6030,\n",
       "   6917,\n",
       "   3318,\n",
       "   382,\n",
       "   2056,\n",
       "   625,\n",
       "   7537,\n",
       "   4608],\n",
       "  'similarities': [1.0,\n",
       "   1.0,\n",
       "   0.9235972834487484,\n",
       "   0.8939587892665225,\n",
       "   0.7192522098894492,\n",
       "   0.6563222843028201,\n",
       "   0.655400171883239,\n",
       "   0.49358261057245073,\n",
       "   0.46871910423115865,\n",
       "   0.4651248776411019]},\n",
       " 'similar_course_views_users': {'users': [1826,\n",
       "   5952,\n",
       "   2015,\n",
       "   2879,\n",
       "   5081,\n",
       "   4820,\n",
       "   5109,\n",
       "   2977,\n",
       "   9112,\n",
       "   8378],\n",
       "  'similarities': [0.4498510235632364,\n",
       "   0.34998701811157873,\n",
       "   0.2946401499522206,\n",
       "   0.2846420433079939,\n",
       "   0.2787026564346413,\n",
       "   0.27658778053062166,\n",
       "   0.2642963719000827,\n",
       "   0.2508883038705708,\n",
       "   0.24671322237514698,\n",
       "   0.24277208978238943]},\n",
       " 'similar_interest_users': {'users': [2442,\n",
       "   5489,\n",
       "   9943,\n",
       "   9252,\n",
       "   5156,\n",
       "   4246,\n",
       "   8218,\n",
       "   7071,\n",
       "   1233,\n",
       "   9075],\n",
       "  'similarities': [0.7702343703261811,\n",
       "   0.7343323621476952,\n",
       "   0.7148435124149688,\n",
       "   0.7148435124149688,\n",
       "   0.652083485069298,\n",
       "   0.6436155849179223,\n",
       "   0.6410612492078511,\n",
       "   0.6403082762168593,\n",
       "   0.6386180870795566,\n",
       "   0.6055442463781242]},\n",
       " 'similar_overall_users': {'users': [3851,\n",
       "   6917,\n",
       "   4005,\n",
       "   6030,\n",
       "   2056,\n",
       "   3318,\n",
       "   382,\n",
       "   625,\n",
       "   4153,\n",
       "   4608],\n",
       "  'similarities': [0.6387917427305085,\n",
       "   0.5397582752365735,\n",
       "   0.5210651570678735,\n",
       "   0.48958326221552606,\n",
       "   0.3905282867589085,\n",
       "   0.38828193929651866,\n",
       "   0.37704034172738937,\n",
       "   0.31940390614451886,\n",
       "   0.29775507068766915,\n",
       "   0.29676147542462655]}}"
      ]
     },
     "execution_count": 96,
     "metadata": {},
     "output_type": "execute_result"
    }
   ],
   "source": [
    "get_similar_users(2)"
   ]
  },
  {
   "cell_type": "code",
   "execution_count": 97,
   "metadata": {},
   "outputs": [
    {
     "data": {
      "text/plain": [
       "{'user_top_assessment_tags': ['photoshop'],\n",
       " 'user_highest_course_views': ['your-first-day-mari-1468'],\n",
       " 'user_interest_tags': ['maya, 3d-texturing, zbrush, 3d-lighting, 3d-dynamics, 3d-rigging, 3d-animation, adobe'],\n",
       " 'similar_score_users': {'users': [2,\n",
       "   4005,\n",
       "   6030,\n",
       "   6917,\n",
       "   3318,\n",
       "   382,\n",
       "   2056,\n",
       "   625,\n",
       "   7537,\n",
       "   4608],\n",
       "  'similarities': [1.0,\n",
       "   1.0,\n",
       "   0.9235972834487484,\n",
       "   0.8939587892665225,\n",
       "   0.7192522098894492,\n",
       "   0.6563222843028201,\n",
       "   0.655400171883239,\n",
       "   0.49358261057245073,\n",
       "   0.46871910423115865,\n",
       "   0.4651248776411019]},\n",
       " 'similar_course_views_users': {'users': [5104,\n",
       "   4580,\n",
       "   3872,\n",
       "   9073,\n",
       "   7039,\n",
       "   1132,\n",
       "   9872,\n",
       "   8737,\n",
       "   2458,\n",
       "   2304],\n",
       "  'similarities': [0.29323941470114334,\n",
       "   0.26731685422117535,\n",
       "   0.2586380335847158,\n",
       "   0.25815389866525656,\n",
       "   0.25489946571269817,\n",
       "   0.2536206199491258,\n",
       "   0.2502755726590581,\n",
       "   0.24333851006177337,\n",
       "   0.23720067359017144,\n",
       "   0.23506348700202803]},\n",
       " 'similar_interest_users': {'users': [6614,\n",
       "   8866,\n",
       "   6842,\n",
       "   2293,\n",
       "   9421,\n",
       "   7699,\n",
       "   6446,\n",
       "   7071,\n",
       "   3727,\n",
       "   7082],\n",
       "  'similarities': [0.9018709082843058,\n",
       "   0.8538992361395458,\n",
       "   0.8453174442483811,\n",
       "   0.8344912390007658,\n",
       "   0.8332928972622207,\n",
       "   0.8246929776949703,\n",
       "   0.8236722114679891,\n",
       "   0.8178751640161084,\n",
       "   0.8125582148112388,\n",
       "   0.8018055151048298]},\n",
       " 'similar_overall_users': {'users': [2,\n",
       "   4005,\n",
       "   6917,\n",
       "   6030,\n",
       "   2056,\n",
       "   382,\n",
       "   625,\n",
       "   4608,\n",
       "   3318,\n",
       "   4153],\n",
       "  'similarities': [0.6387917427305085,\n",
       "   0.6027150419315584,\n",
       "   0.5463290450116014,\n",
       "   0.531841740741524,\n",
       "   0.39661671632282447,\n",
       "   0.38741705670587484,\n",
       "   0.3522075316735257,\n",
       "   0.34744644185753626,\n",
       "   0.33853720999654846,\n",
       "   0.2931233148260764]}}"
      ]
     },
     "execution_count": 97,
     "metadata": {},
     "output_type": "execute_result"
    }
   ],
   "source": [
    "get_similar_users(3851)"
   ]
  }
 ],
 "metadata": {
  "kernelspec": {
   "display_name": "Python 3",
   "language": "python",
   "name": "python3"
  },
  "language_info": {
   "codemirror_mode": {
    "name": "ipython",
    "version": 3
   },
   "file_extension": ".py",
   "mimetype": "text/x-python",
   "name": "python",
   "nbconvert_exporter": "python",
   "pygments_lexer": "ipython3",
   "version": "3.7.4"
  }
 },
 "nbformat": 4,
 "nbformat_minor": 4
}
