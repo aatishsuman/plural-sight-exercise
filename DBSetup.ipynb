{
 "cells": [
  {
   "cell_type": "code",
   "execution_count": 50,
   "metadata": {},
   "outputs": [],
   "source": [
    "from configparser import ConfigParser\n",
    "import psycopg2\n",
    "from psycopg2.extensions import ISOLATION_LEVEL_AUTOCOMMIT\n",
    "import sqlalchemy\n",
    "import pandas as pd"
   ]
  },
  {
   "cell_type": "code",
   "execution_count": 45,
   "metadata": {},
   "outputs": [],
   "source": [
    "def get_config(filename, section='postgresql'):\n",
    "    parser = ConfigParser()\n",
    "    parser.read(filename)\n",
    "    db_params = {}\n",
    "    if parser.has_section(section):\n",
    "        params = parser.items(section)\n",
    "        for param in params:\n",
    "            db_params[param[0]] = param[1]\n",
    "    else:\n",
    "        raise Exception('Section {0} not found in the {1} file'.format(section, filename))\n",
    "    return db_params"
   ]
  },
  {
   "cell_type": "code",
   "execution_count": 52,
   "metadata": {},
   "outputs": [],
   "source": [
    "def create_database(db):\n",
    "    \"\"\" Connect to the PostgreSQL database server \"\"\"\n",
    "    conn = None\n",
    "    try:\n",
    "        params = get_config(SERVER_CONFIG)\n",
    "\n",
    "        print('Connecting to the PostgreSQL server...')\n",
    "        conn = psycopg2.connect(**params)\n",
    "        conn.set_isolation_level(ISOLATION_LEVEL_AUTOCOMMIT)\n",
    "        cur = conn.cursor()\n",
    "\n",
    "        cur.execute('DROP DATABASE IF EXISTS {}'.format(db))\n",
    "        cur.execute('CREATE DATABASE {}'.format(db))\n",
    "        print('Database {} successfully created.'.format(db))\n",
    "    except (Exception, psycopg2.DatabaseError) as error:\n",
    "        print(error)\n",
    "    finally:\n",
    "        if conn is not None:\n",
    "            conn.close()\n",
    "            print('Database connection closed.')"
   ]
  },
  {
   "cell_type": "code",
   "execution_count": 58,
   "metadata": {},
   "outputs": [],
   "source": [
    "def create_tables(file_names):\n",
    "    engine = None\n",
    "    try:\n",
    "        params = get_config(DATABASE_CONFIG)\n",
    "        engine = sqlalchemy.create_engine('postgresql://' + params['user'] + ':' + params['password'] + '@' + params['host'] + ':' + params['port'] + '/' + params['database'])\n",
    "        for file_name in file_names:            \n",
    "            data = pd.read_csv(DATA_URL + file_name + '.csv')\n",
    "            data.to_sql(file_name, engine, if_exists='replace')\n",
    "            print('Table {} successfully created.'.format(file_name))\n",
    "    except (Exception) as error:\n",
    "        print(error)\n",
    "    finally:\n",
    "        if engine is not None:\n",
    "            engine.dispose()\n",
    "            print('Database connection closed.')"
   ]
  },
  {
   "cell_type": "code",
   "execution_count": 60,
   "metadata": {},
   "outputs": [
    {
     "name": "stdout",
     "output_type": "stream",
     "text": [
      "Connecting to the PostgreSQL database...\n",
      "Database pluralsight successfully created.\n",
      "Database connection closed.\n"
     ]
    }
   ],
   "source": [
    "DB = 'pluralsight'\n",
    "SERVER_CONFIG = 'server.ini'\n",
    "create_database(DB)"
   ]
  },
  {
   "cell_type": "code",
   "execution_count": 61,
   "metadata": {},
   "outputs": [
    {
     "name": "stdout",
     "output_type": "stream",
     "text": [
      "Table course_tags successfully created.\n",
      "Table user_assessment_scores successfully created.\n",
      "Table user_course_views successfully created.\n",
      "Table user_interests successfully created.\n",
      "Database connection closed.\n"
     ]
    }
   ],
   "source": [
    "DATABASE_CONFIG = 'database.ini'\n",
    "DATA_URL = 'https://raw.githubusercontent.com/aatishsuman/plural-sight-exercise/master/data/'\n",
    "FILE_NAMES = ['course_tags', 'user_assessment_scores', 'user_course_views', 'user_interests']\n",
    "create_tables(FILE_NAMES)"
   ]
  }
 ],
 "metadata": {
  "kernelspec": {
   "display_name": "Python 3",
   "language": "python",
   "name": "python3"
  },
  "language_info": {
   "codemirror_mode": {
    "name": "ipython",
    "version": 3
   },
   "file_extension": ".py",
   "mimetype": "text/x-python",
   "name": "python",
   "nbconvert_exporter": "python",
   "pygments_lexer": "ipython3",
   "version": "3.7.4"
  }
 },
 "nbformat": 4,
 "nbformat_minor": 4
}
